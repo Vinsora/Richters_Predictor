{
 "cells": [
  {
   "cell_type": "code",
   "execution_count": 4,
   "metadata": {},
   "outputs": [],
   "source": [
    "from xgboost import XGBClassifier\n",
    "from sklearn.ensemble import RandomForestClassifier\n",
    "from sklearn.model_selection import train_test_split\n",
    "from Richters_Predictor.dataloader import dataloader"
   ]
  },
  {
   "cell_type": "code",
   "execution_count": 5,
   "metadata": {},
   "outputs": [],
   "source": [
    "X_train, y_train, X_test = dataloader()\n",
    "X_train, X_valid, y_train, y_valid = train_test_split(X_train, y_train, test_size=0.2, random_state=42)"
   ]
  },
  {
   "cell_type": "code",
   "execution_count": 6,
   "metadata": {},
   "outputs": [],
   "source": [
    "from Richters_Predictor.encoder import get_basen_encoder, get_onehot_encoder\n",
    "from sklearn.compose import ColumnTransformer\n",
    "\n",
    "# columns for base-n encoding\n",
    "base_n_columns = ['geo_level_1_id', 'geo_level_2_id']\n",
    "\n",
    "# columns for one-hot encoding\n",
    "one_hot_columns = ['foundation_type', 'land_surface_condition', 'ground_floor_type', 'other_floor_type', 'position', 'plan_configuration', 'legal_ownership_status']\n",
    "\n",
    "base_pipeline = get_basen_encoder(base_n_columns)\n",
    "onehot_pipeline = get_onehot_encoder(one_hot_columns)"
   ]
  },
  {
   "cell_type": "code",
   "execution_count": 7,
   "metadata": {},
   "outputs": [
    {
     "data": {
      "text/html": [
       "<style>#sk-container-id-1 {color: black;}#sk-container-id-1 pre{padding: 0;}#sk-container-id-1 div.sk-toggleable {background-color: white;}#sk-container-id-1 label.sk-toggleable__label {cursor: pointer;display: block;width: 100%;margin-bottom: 0;padding: 0.3em;box-sizing: border-box;text-align: center;}#sk-container-id-1 label.sk-toggleable__label-arrow:before {content: \"▸\";float: left;margin-right: 0.25em;color: #696969;}#sk-container-id-1 label.sk-toggleable__label-arrow:hover:before {color: black;}#sk-container-id-1 div.sk-estimator:hover label.sk-toggleable__label-arrow:before {color: black;}#sk-container-id-1 div.sk-toggleable__content {max-height: 0;max-width: 0;overflow: hidden;text-align: left;background-color: #f0f8ff;}#sk-container-id-1 div.sk-toggleable__content pre {margin: 0.2em;color: black;border-radius: 0.25em;background-color: #f0f8ff;}#sk-container-id-1 input.sk-toggleable__control:checked~div.sk-toggleable__content {max-height: 200px;max-width: 100%;overflow: auto;}#sk-container-id-1 input.sk-toggleable__control:checked~label.sk-toggleable__label-arrow:before {content: \"▾\";}#sk-container-id-1 div.sk-estimator input.sk-toggleable__control:checked~label.sk-toggleable__label {background-color: #d4ebff;}#sk-container-id-1 div.sk-label input.sk-toggleable__control:checked~label.sk-toggleable__label {background-color: #d4ebff;}#sk-container-id-1 input.sk-hidden--visually {border: 0;clip: rect(1px 1px 1px 1px);clip: rect(1px, 1px, 1px, 1px);height: 1px;margin: -1px;overflow: hidden;padding: 0;position: absolute;width: 1px;}#sk-container-id-1 div.sk-estimator {font-family: monospace;background-color: #f0f8ff;border: 1px dotted black;border-radius: 0.25em;box-sizing: border-box;margin-bottom: 0.5em;}#sk-container-id-1 div.sk-estimator:hover {background-color: #d4ebff;}#sk-container-id-1 div.sk-parallel-item::after {content: \"\";width: 100%;border-bottom: 1px solid gray;flex-grow: 1;}#sk-container-id-1 div.sk-label:hover label.sk-toggleable__label {background-color: #d4ebff;}#sk-container-id-1 div.sk-serial::before {content: \"\";position: absolute;border-left: 1px solid gray;box-sizing: border-box;top: 0;bottom: 0;left: 50%;z-index: 0;}#sk-container-id-1 div.sk-serial {display: flex;flex-direction: column;align-items: center;background-color: white;padding-right: 0.2em;padding-left: 0.2em;position: relative;}#sk-container-id-1 div.sk-item {position: relative;z-index: 1;}#sk-container-id-1 div.sk-parallel {display: flex;align-items: stretch;justify-content: center;background-color: white;position: relative;}#sk-container-id-1 div.sk-item::before, #sk-container-id-1 div.sk-parallel-item::before {content: \"\";position: absolute;border-left: 1px solid gray;box-sizing: border-box;top: 0;bottom: 0;left: 50%;z-index: -1;}#sk-container-id-1 div.sk-parallel-item {display: flex;flex-direction: column;z-index: 1;position: relative;background-color: white;}#sk-container-id-1 div.sk-parallel-item:first-child::after {align-self: flex-end;width: 50%;}#sk-container-id-1 div.sk-parallel-item:last-child::after {align-self: flex-start;width: 50%;}#sk-container-id-1 div.sk-parallel-item:only-child::after {width: 0;}#sk-container-id-1 div.sk-dashed-wrapped {border: 1px dashed gray;margin: 0 0.4em 0.5em 0.4em;box-sizing: border-box;padding-bottom: 0.4em;background-color: white;}#sk-container-id-1 div.sk-label label {font-family: monospace;font-weight: bold;display: inline-block;line-height: 1.2em;}#sk-container-id-1 div.sk-label-container {text-align: center;}#sk-container-id-1 div.sk-container {/* jupyter's `normalize.less` sets `[hidden] { display: none; }` but bootstrap.min.css set `[hidden] { display: none !important; }` so we also need the `!important` here to be able to override the default hidden behavior on the sphinx rendered scikit-learn.org. See: https://github.com/scikit-learn/scikit-learn/issues/21755 */display: inline-block !important;position: relative;}#sk-container-id-1 div.sk-text-repr-fallback {display: none;}</style><div id=\"sk-container-id-1\" class=\"sk-top-container\"><div class=\"sk-text-repr-fallback\"><pre>Pipeline(steps=[(&#x27;preprocessor&#x27;,\n",
       "                 ColumnTransformer(transformers=[(&#x27;oh_pipe&#x27;,\n",
       "                                                  Pipeline(steps=[(&#x27;encoder&#x27;,\n",
       "                                                                   OneHotEncoder(cols=[&#x27;foundation_type&#x27;,\n",
       "                                                                                       &#x27;land_surface_condition&#x27;,\n",
       "                                                                                       &#x27;ground_floor_type&#x27;,\n",
       "                                                                                       &#x27;other_floor_type&#x27;,\n",
       "                                                                                       &#x27;position&#x27;,\n",
       "                                                                                       &#x27;plan_configuration&#x27;,\n",
       "                                                                                       &#x27;legal_ownership_status&#x27;]))]),\n",
       "                                                  [&#x27;foundation_type&#x27;,\n",
       "                                                   &#x27;land_surface_condition&#x27;,\n",
       "                                                   &#x27;ground_floor_type&#x27;,\n",
       "                                                   &#x27;other_floor_type&#x27;,\n",
       "                                                   &#x27;position&#x27;,\n",
       "                                                   &#x27;plan_configuration&#x27;,\n",
       "                                                   &#x27;legal_ownership_status&#x27;]),\n",
       "                                                 (&#x27;base_pipe&#x27;,\n",
       "                                                  Pipeline(steps=[(&#x27;encoder&#x27;,\n",
       "                                                                   BaseNEncoder(cols=[&#x27;geo_level_1_id&#x27;,\n",
       "                                                                                      &#x27;geo_level_2_id&#x27;]))]),\n",
       "                                                  [&#x27;geo_level_1_id&#x27;,\n",
       "                                                   &#x27;geo_level_2_id&#x27;])])),\n",
       "                (&#x27;model&#x27;, RandomForestClassifier())])</pre><b>In a Jupyter environment, please rerun this cell to show the HTML representation or trust the notebook. <br />On GitHub, the HTML representation is unable to render, please try loading this page with nbviewer.org.</b></div><div class=\"sk-container\" hidden><div class=\"sk-item sk-dashed-wrapped\"><div class=\"sk-label-container\"><div class=\"sk-label sk-toggleable\"><input class=\"sk-toggleable__control sk-hidden--visually\" id=\"sk-estimator-id-1\" type=\"checkbox\" ><label for=\"sk-estimator-id-1\" class=\"sk-toggleable__label sk-toggleable__label-arrow\">Pipeline</label><div class=\"sk-toggleable__content\"><pre>Pipeline(steps=[(&#x27;preprocessor&#x27;,\n",
       "                 ColumnTransformer(transformers=[(&#x27;oh_pipe&#x27;,\n",
       "                                                  Pipeline(steps=[(&#x27;encoder&#x27;,\n",
       "                                                                   OneHotEncoder(cols=[&#x27;foundation_type&#x27;,\n",
       "                                                                                       &#x27;land_surface_condition&#x27;,\n",
       "                                                                                       &#x27;ground_floor_type&#x27;,\n",
       "                                                                                       &#x27;other_floor_type&#x27;,\n",
       "                                                                                       &#x27;position&#x27;,\n",
       "                                                                                       &#x27;plan_configuration&#x27;,\n",
       "                                                                                       &#x27;legal_ownership_status&#x27;]))]),\n",
       "                                                  [&#x27;foundation_type&#x27;,\n",
       "                                                   &#x27;land_surface_condition&#x27;,\n",
       "                                                   &#x27;ground_floor_type&#x27;,\n",
       "                                                   &#x27;other_floor_type&#x27;,\n",
       "                                                   &#x27;position&#x27;,\n",
       "                                                   &#x27;plan_configuration&#x27;,\n",
       "                                                   &#x27;legal_ownership_status&#x27;]),\n",
       "                                                 (&#x27;base_pipe&#x27;,\n",
       "                                                  Pipeline(steps=[(&#x27;encoder&#x27;,\n",
       "                                                                   BaseNEncoder(cols=[&#x27;geo_level_1_id&#x27;,\n",
       "                                                                                      &#x27;geo_level_2_id&#x27;]))]),\n",
       "                                                  [&#x27;geo_level_1_id&#x27;,\n",
       "                                                   &#x27;geo_level_2_id&#x27;])])),\n",
       "                (&#x27;model&#x27;, RandomForestClassifier())])</pre></div></div></div><div class=\"sk-serial\"><div class=\"sk-item sk-dashed-wrapped\"><div class=\"sk-label-container\"><div class=\"sk-label sk-toggleable\"><input class=\"sk-toggleable__control sk-hidden--visually\" id=\"sk-estimator-id-2\" type=\"checkbox\" ><label for=\"sk-estimator-id-2\" class=\"sk-toggleable__label sk-toggleable__label-arrow\">preprocessor: ColumnTransformer</label><div class=\"sk-toggleable__content\"><pre>ColumnTransformer(transformers=[(&#x27;oh_pipe&#x27;,\n",
       "                                 Pipeline(steps=[(&#x27;encoder&#x27;,\n",
       "                                                  OneHotEncoder(cols=[&#x27;foundation_type&#x27;,\n",
       "                                                                      &#x27;land_surface_condition&#x27;,\n",
       "                                                                      &#x27;ground_floor_type&#x27;,\n",
       "                                                                      &#x27;other_floor_type&#x27;,\n",
       "                                                                      &#x27;position&#x27;,\n",
       "                                                                      &#x27;plan_configuration&#x27;,\n",
       "                                                                      &#x27;legal_ownership_status&#x27;]))]),\n",
       "                                 [&#x27;foundation_type&#x27;, &#x27;land_surface_condition&#x27;,\n",
       "                                  &#x27;ground_floor_type&#x27;, &#x27;other_floor_type&#x27;,\n",
       "                                  &#x27;position&#x27;, &#x27;plan_configuration&#x27;,\n",
       "                                  &#x27;legal_ownership_status&#x27;]),\n",
       "                                (&#x27;base_pipe&#x27;,\n",
       "                                 Pipeline(steps=[(&#x27;encoder&#x27;,\n",
       "                                                  BaseNEncoder(cols=[&#x27;geo_level_1_id&#x27;,\n",
       "                                                                     &#x27;geo_level_2_id&#x27;]))]),\n",
       "                                 [&#x27;geo_level_1_id&#x27;, &#x27;geo_level_2_id&#x27;])])</pre></div></div></div><div class=\"sk-parallel\"><div class=\"sk-parallel-item\"><div class=\"sk-item\"><div class=\"sk-label-container\"><div class=\"sk-label sk-toggleable\"><input class=\"sk-toggleable__control sk-hidden--visually\" id=\"sk-estimator-id-3\" type=\"checkbox\" ><label for=\"sk-estimator-id-3\" class=\"sk-toggleable__label sk-toggleable__label-arrow\">oh_pipe</label><div class=\"sk-toggleable__content\"><pre>[&#x27;foundation_type&#x27;, &#x27;land_surface_condition&#x27;, &#x27;ground_floor_type&#x27;, &#x27;other_floor_type&#x27;, &#x27;position&#x27;, &#x27;plan_configuration&#x27;, &#x27;legal_ownership_status&#x27;]</pre></div></div></div><div class=\"sk-serial\"><div class=\"sk-item\"><div class=\"sk-serial\"><div class=\"sk-item\"><div class=\"sk-estimator sk-toggleable\"><input class=\"sk-toggleable__control sk-hidden--visually\" id=\"sk-estimator-id-4\" type=\"checkbox\" ><label for=\"sk-estimator-id-4\" class=\"sk-toggleable__label sk-toggleable__label-arrow\">OneHotEncoder</label><div class=\"sk-toggleable__content\"><pre>OneHotEncoder(cols=[&#x27;foundation_type&#x27;, &#x27;land_surface_condition&#x27;,\n",
       "                    &#x27;ground_floor_type&#x27;, &#x27;other_floor_type&#x27;, &#x27;position&#x27;,\n",
       "                    &#x27;plan_configuration&#x27;, &#x27;legal_ownership_status&#x27;])</pre></div></div></div></div></div></div></div></div><div class=\"sk-parallel-item\"><div class=\"sk-item\"><div class=\"sk-label-container\"><div class=\"sk-label sk-toggleable\"><input class=\"sk-toggleable__control sk-hidden--visually\" id=\"sk-estimator-id-5\" type=\"checkbox\" ><label for=\"sk-estimator-id-5\" class=\"sk-toggleable__label sk-toggleable__label-arrow\">base_pipe</label><div class=\"sk-toggleable__content\"><pre>[&#x27;geo_level_1_id&#x27;, &#x27;geo_level_2_id&#x27;]</pre></div></div></div><div class=\"sk-serial\"><div class=\"sk-item\"><div class=\"sk-serial\"><div class=\"sk-item\"><div class=\"sk-estimator sk-toggleable\"><input class=\"sk-toggleable__control sk-hidden--visually\" id=\"sk-estimator-id-6\" type=\"checkbox\" ><label for=\"sk-estimator-id-6\" class=\"sk-toggleable__label sk-toggleable__label-arrow\">BaseNEncoder</label><div class=\"sk-toggleable__content\"><pre>BaseNEncoder(cols=[&#x27;geo_level_1_id&#x27;, &#x27;geo_level_2_id&#x27;])</pre></div></div></div></div></div></div></div></div></div></div><div class=\"sk-item\"><div class=\"sk-estimator sk-toggleable\"><input class=\"sk-toggleable__control sk-hidden--visually\" id=\"sk-estimator-id-7\" type=\"checkbox\" ><label for=\"sk-estimator-id-7\" class=\"sk-toggleable__label sk-toggleable__label-arrow\">RandomForestClassifier</label><div class=\"sk-toggleable__content\"><pre>RandomForestClassifier()</pre></div></div></div></div></div></div></div>"
      ],
      "text/plain": [
       "Pipeline(steps=[('preprocessor',\n",
       "                 ColumnTransformer(transformers=[('oh_pipe',\n",
       "                                                  Pipeline(steps=[('encoder',\n",
       "                                                                   OneHotEncoder(cols=['foundation_type',\n",
       "                                                                                       'land_surface_condition',\n",
       "                                                                                       'ground_floor_type',\n",
       "                                                                                       'other_floor_type',\n",
       "                                                                                       'position',\n",
       "                                                                                       'plan_configuration',\n",
       "                                                                                       'legal_ownership_status']))]),\n",
       "                                                  ['foundation_type',\n",
       "                                                   'land_surface_condition',\n",
       "                                                   'ground_floor_type',\n",
       "                                                   'other_floor_type',\n",
       "                                                   'position',\n",
       "                                                   'plan_configuration',\n",
       "                                                   'legal_ownership_status']),\n",
       "                                                 ('base_pipe',\n",
       "                                                  Pipeline(steps=[('encoder',\n",
       "                                                                   BaseNEncoder(cols=['geo_level_1_id',\n",
       "                                                                                      'geo_level_2_id']))]),\n",
       "                                                  ['geo_level_1_id',\n",
       "                                                   'geo_level_2_id'])])),\n",
       "                ('model', RandomForestClassifier())])"
      ]
     },
     "execution_count": 7,
     "metadata": {},
     "output_type": "execute_result"
    }
   ],
   "source": [
    "from sklearn.pipeline import Pipeline\n",
    "\n",
    "\n",
    "# Bundle preprocessing for numerical and categorical data\n",
    "preprocessor = ColumnTransformer(\n",
    "    transformers=[\n",
    "        (\"oh_pipe\", onehot_pipeline, one_hot_columns),\n",
    "        ('base_pipe', base_pipeline, base_n_columns),\n",
    "\n",
    "])\n",
    "\n",
    "# Bundle preprocessing and modeling code in a pipeline\n",
    "my_pipeline = Pipeline(steps=[('preprocessor', preprocessor),\n",
    "                              ('model', RandomForestClassifier())\n",
    "])\n",
    "\n",
    "my_pipeline.fit(X_train, y_train['damage_grade'])"
   ]
  },
  {
   "cell_type": "code",
   "execution_count": 8,
   "metadata": {},
   "outputs": [],
   "source": [
    "rfc_preds = my_pipeline.predict(X_valid)"
   ]
  },
  {
   "cell_type": "code",
   "execution_count": 10,
   "metadata": {},
   "outputs": [
    {
     "data": {
      "text/plain": [
       "0.710155215747971"
      ]
     },
     "execution_count": 10,
     "metadata": {},
     "output_type": "execute_result"
    }
   ],
   "source": [
    "from sklearn.metrics import f1_score\n",
    "f1_score(y_valid.damage_grade, rfc_preds, average='micro')"
   ]
  }
 ],
 "metadata": {
  "kernelspec": {
   "display_name": "dsr",
   "language": "python",
   "name": "python3"
  },
  "language_info": {
   "codemirror_mode": {
    "name": "ipython",
    "version": 3
   },
   "file_extension": ".py",
   "mimetype": "text/x-python",
   "name": "python",
   "nbconvert_exporter": "python",
   "pygments_lexer": "ipython3",
   "version": "3.11.7"
  }
 },
 "nbformat": 4,
 "nbformat_minor": 2
}
